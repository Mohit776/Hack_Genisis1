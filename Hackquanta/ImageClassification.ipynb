{
 "cells": [
  {
   "cell_type": "code",
   "execution_count": 20,
   "id": "19a6fae7-409e-4270-9da1-f447898d5afd",
   "metadata": {},
   "outputs": [],
   "source": [
    "import tensorflow as tf\n",
    "from tensorflow.keras.preprocessing.image import ImageDataGenerator"
   ]
  },
  {
   "cell_type": "code",
   "execution_count": 21,
   "id": "3c06e61a-cfcd-46c2-bdb8-9c0f89c8d36f",
   "metadata": {},
   "outputs": [],
   "source": [
    "train_dir = \"Cars/Cars\""
   ]
  },
  {
   "cell_type": "code",
   "execution_count": 22,
   "id": "ade3a567-13e7-4144-939c-a4a1283a4b7e",
   "metadata": {},
   "outputs": [],
   "source": [
    "datagen = ImageDataGenerator(validation_split=0.2, rescale=1./255)"
   ]
  },
  {
   "cell_type": "code",
   "execution_count": 23,
   "id": "3c57a730-3958-4fed-9674-0e2e627518fa",
   "metadata": {},
   "outputs": [
    {
     "name": "stdout",
     "output_type": "stream",
     "text": [
      "Found 395 images belonging to 28 classes.\n"
     ]
    }
   ],
   "source": [
    "train_gen = datagen.flow_from_directory(\n",
    "    train_dir,\n",
    "    target_size=(224, 224),\n",
    "    batch_size=32,\n",
    "    subset='training',\n",
    "    class_mode='categorical'\n",
    ")"
   ]
  },
  {
   "cell_type": "code",
   "execution_count": 24,
   "id": "0ed5edac-4ac7-464b-91ac-8bbfb6bdcef2",
   "metadata": {},
   "outputs": [
    {
     "name": "stdout",
     "output_type": "stream",
     "text": [
      "Found 82 images belonging to 28 classes.\n"
     ]
    }
   ],
   "source": [
    "val_gen = datagen.flow_from_directory(\n",
    "    train_dir,\n",
    "    target_size=(224, 224),\n",
    "    batch_size=32,\n",
    "    subset='validation',\n",
    "    class_mode='categorical'\n",
    ")"
   ]
  },
  {
   "cell_type": "code",
   "execution_count": 25,
   "id": "a86584a9-c8be-458d-843b-71b76a47886b",
   "metadata": {},
   "outputs": [],
   "source": [
    "base_model = tf.keras.applications.MobileNetV2(input_shape=(224,224,3),\n",
    "                                               include_top=False,\n",
    "                                               weights=\"imagenet\")"
   ]
  },
  {
   "cell_type": "code",
   "execution_count": 26,
   "id": "9e82e2ec-3759-4912-a973-ec7c35459579",
   "metadata": {},
   "outputs": [],
   "source": [
    "base_model.trainable = False"
   ]
  },
  {
   "cell_type": "code",
   "execution_count": 27,
   "id": "d09761ca-a284-48df-94b9-8e934bdf5f40",
   "metadata": {},
   "outputs": [],
   "source": [
    "model = tf.keras.Sequential([\n",
    "    base_model,\n",
    "    tf.keras.layers.GlobalAveragePooling2D(),\n",
    "    tf.keras.layers.Dense(len(train_gen.class_indices), activation=\"softmax\")\n",
    "])"
   ]
  },
  {
   "cell_type": "code",
   "execution_count": 28,
   "id": "574355d9-a81c-4924-a184-f313c9656168",
   "metadata": {},
   "outputs": [],
   "source": [
    "model.compile(optimizer=\"adam\", loss=\"categorical_crossentropy\", metrics=[\"accuracy\"])"
   ]
  },
  {
   "cell_type": "code",
   "execution_count": 29,
   "id": "30d736da-1742-4b8d-98b3-7ad7e9f5b795",
   "metadata": {},
   "outputs": [
    {
     "name": "stdout",
     "output_type": "stream",
     "text": [
      "Epoch 1/5\n",
      "\u001b[1m13/13\u001b[0m \u001b[32m━━━━━━━━━━━━━━━━━━━━\u001b[0m\u001b[37m\u001b[0m \u001b[1m33s\u001b[0m 1s/step - accuracy: 0.0633 - loss: 3.5369 - val_accuracy: 0.0976 - val_loss: 3.2502\n",
      "Epoch 2/5\n",
      "\u001b[1m13/13\u001b[0m \u001b[32m━━━━━━━━━━━━━━━━━━━━\u001b[0m\u001b[37m\u001b[0m \u001b[1m13s\u001b[0m 1s/step - accuracy: 0.1696 - loss: 2.9219 - val_accuracy: 0.1951 - val_loss: 2.9793\n",
      "Epoch 3/5\n",
      "\u001b[1m13/13\u001b[0m \u001b[32m━━━━━━━━━━━━━━━━━━━━\u001b[0m\u001b[37m\u001b[0m \u001b[1m13s\u001b[0m 1s/step - accuracy: 0.4000 - loss: 2.4587 - val_accuracy: 0.2317 - val_loss: 2.7944\n",
      "Epoch 4/5\n",
      "\u001b[1m13/13\u001b[0m \u001b[32m━━━━━━━━━━━━━━━━━━━━\u001b[0m\u001b[37m\u001b[0m \u001b[1m13s\u001b[0m 1s/step - accuracy: 0.5392 - loss: 2.0898 - val_accuracy: 0.2439 - val_loss: 2.6537\n",
      "Epoch 5/5\n",
      "\u001b[1m13/13\u001b[0m \u001b[32m━━━━━━━━━━━━━━━━━━━━\u001b[0m\u001b[37m\u001b[0m \u001b[1m14s\u001b[0m 1s/step - accuracy: 0.6835 - loss: 1.8011 - val_accuracy: 0.2439 - val_loss: 2.5505\n"
     ]
    }
   ],
   "source": [
    "history = model.fit(train_gen, validation_data=val_gen, epochs=5)"
   ]
  },
  {
   "cell_type": "code",
   "execution_count": 30,
   "id": "33969baa-9138-477a-acea-b12be735d0db",
   "metadata": {},
   "outputs": [
    {
     "name": "stderr",
     "output_type": "stream",
     "text": [
      "WARNING:absl:You are saving your model as an HDF5 file via `model.save()` or `keras.saving.save_model(model)`. This file format is considered legacy. We recommend using instead the native Keras format, e.g. `model.save('my_model.keras')` or `keras.saving.save_model(model, 'my_model.keras')`. \n"
     ]
    }
   ],
   "source": [
    "model.save(\"car_make_model_classifier.h5\")"
   ]
  },
  {
   "cell_type": "code",
   "execution_count": 31,
   "id": "58076cb4-a8bb-4aa1-86e2-1c5c58899a75",
   "metadata": {},
   "outputs": [
    {
     "name": "stderr",
     "output_type": "stream",
     "text": [
      "WARNING:absl:Compiled the loaded model, but the compiled metrics have yet to be built. `model.compile_metrics` will be empty until you train or evaluate the model.\n"
     ]
    }
   ],
   "source": [
    "from tensorflow.keras.models import load_model\n",
    "import numpy as np\n",
    "from tensorflow.keras.preprocessing import image\n",
    "\n",
    "# Load the trained model\n",
    "model = load_model(\"car_make_model_classifier.h5\")\n",
    "\n",
    "# Get class labels mapping\n",
    "class_indices = train_gen.class_indices\n",
    "labels = {v: k for k, v in class_indices.items()}  # reverse dict {0:\"BMW\", 1:\"Audi\", ...}\n"
   ]
  },
  {
   "cell_type": "code",
   "execution_count": 32,
   "id": "72fd1f87-b4e2-44a0-a337-22396993687d",
   "metadata": {},
   "outputs": [],
   "source": [
    "# Get labels from training generator\n",
    "labels = list(train_gen.class_indices.keys())\n",
    "\n",
    "def predict_car(img_path):\n",
    "    # Load image\n",
    "    img = image.load_img(img_path, target_size=(224, 224))\n",
    "    img_array = image.img_to_array(img) / 255.0  # normalize [0,1]\n",
    "    img_array = np.expand_dims(img_array, axis=0)  # add batch dimension\n",
    "    \n",
    "    # Predict\n",
    "    prediction = model.predict(img_array)\n",
    "    class_id = np.argmax(prediction)\n",
    "    confidence = np.max(prediction)\n",
    "    \n",
    "    print(f\"Predicted: {labels[class_id]}  |  Confidence: {confidence:.2f}\")\n",
    "    return labels[class_id], confidence\n"
   ]
  },
  {
   "cell_type": "code",
   "execution_count": 36,
   "id": "dd52b28a-e677-44c4-bf4d-87a6da024102",
   "metadata": {},
   "outputs": [
    {
     "name": "stdout",
     "output_type": "stream",
     "text": [
      "\u001b[1m1/1\u001b[0m \u001b[32m━━━━━━━━━━━━━━━━━━━━\u001b[0m\u001b[37m\u001b[0m \u001b[1m0s\u001b[0m 193ms/step\n",
      "Predicted: BMW,3 Series,GT,  |  Confidence: 0.26\n"
     ]
    },
    {
     "data": {
      "text/plain": [
       "('BMW,3 Series,GT,', np.float32(0.2591565))"
      ]
     },
     "execution_count": 36,
     "metadata": {},
     "output_type": "execute_result"
    }
   ],
   "source": [
    "img_path = \"Cars/Cars/BMW,3 Series,GT,/0bf22123-85db-5ab9-b444-9662bc0f941f (1).jpg\"\n",
    "predict_car(img_path)"
   ]
  },
  {
   "cell_type": "code",
   "execution_count": 37,
   "id": "8fd2627f-f820-47e9-8ba6-ba3df4ff3ab3",
   "metadata": {},
   "outputs": [
    {
     "name": "stdout",
     "output_type": "stream",
     "text": [
      "2.20.0\n"
     ]
    }
   ],
   "source": [
    "print(tf.__version__)"
   ]
  },
  {
   "cell_type": "code",
   "execution_count": null,
   "id": "deb564a6-7f5a-429e-ab41-8d9679d89838",
   "metadata": {},
   "outputs": [],
   "source": []
  }
 ],
 "metadata": {
  "kernelspec": {
   "display_name": "Python (venv)",
   "language": "python",
   "name": "venv"
  },
  "language_info": {
   "codemirror_mode": {
    "name": "ipython",
    "version": 3
   },
   "file_extension": ".py",
   "mimetype": "text/x-python",
   "name": "python",
   "nbconvert_exporter": "python",
   "pygments_lexer": "ipython3",
   "version": "3.13.5"
  }
 },
 "nbformat": 4,
 "nbformat_minor": 5
}
